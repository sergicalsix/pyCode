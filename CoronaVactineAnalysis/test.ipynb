{
 "cells": [
  {
   "cell_type": "code",
   "execution_count": 1,
   "metadata": {},
   "outputs": [
    {
     "name": "stdout",
     "output_type": "stream",
     "text": [
      "from 2021-04-12 to 2021-08-23\n"
     ]
    }
   ],
   "source": [
    "import pandas as pd\n",
    "import geopandas as gpd\n",
    "import matplotlib.pyplot as plt\n",
    "\n",
    "import warnings\n",
    "warnings.filterwarnings('ignore')\n",
    "\"\"\"\n",
    "参考:\n",
    "https://qiita.com/miettal/items/0d322aacaab9ddb2a4fd\n",
    "\"\"\"\n",
    "\n",
    "pref_code2name = {\n",
    "   1: \"北海道\",\n",
    "   2: \"青森県\", 3: \"岩手県\", 4: \"宮城県\", 5: \"秋田県\", 6: \"山形県\", 7: \"福島県\",\n",
    "   8: \"茨城県\", 9: \"栃木県\", 10: \"群馬県\", 11: \"埼玉県\", 12: \"千葉県\", 13: \"東京都\", 14: \"神奈川県\",\n",
    "   15: \"新潟県\", 16: \"富山県\", 17: \"石川県\", 18: \"福井県\", 19: \"山梨県\", 20: \"長野県\", 21: \"岐阜県\", 22: \"静岡県\", 23: \"愛知県\",\n",
    "   24: \"三重県\", 25: \"滋賀県\", 26: \"京都府\", 27: \"大阪府\", 28: \"兵庫県\", 29: \"奈良県\", 30: \"和歌山県\",\n",
    "   31: \"鳥取県\", 32: \"島根県\", 33: \"岡山県\", 34: \"広島県\", 35: \"山口県\",\n",
    "   36: \"徳島県\", 37: \"香川県\", 38: \"愛媛県\", 39: \"高知県\",\n",
    "   40: \"福岡県\", 41: \"佐賀県\", 42: \"長崎県\", 43: \"熊本県\", 44: \"大分県\", 45: \"宮崎県\", 46: \"鹿児島県\",\n",
    "   47: \"沖縄県\",}\n",
    "#keyとitemの反対\n",
    "pref_name2code = dict([(v, k) for (k, v) in pref_code2name.items()])\n",
    "\n",
    "df_jpn = gpd.read_file('data/gadm36_JPN_1.shp')\n",
    "df_jpn['code'] = df_jpn['NL_NAME_1'].map(pref_name2code.get)\n",
    "#print('df_jpn.shape ',df_jpn.shape)\n",
    "df_jpn.plot()\n",
    "plt.savefig('img/japan_map.png')\n",
    "plt.clf()\n",
    "\n",
    "df_vaccine = pd.read_csv('data/vaccine.csv',header = 0)\n",
    "first_day = df_vaccine[:1]['date'].values[0]\n",
    "last_days = df_vaccine[-1:]['date'].values[0]\n",
    "print(\"from \" + first_day + \" to \" + last_days)\n",
    "df_population = pd.read_csv('data/population_done.csv',header = 0)\n",
    "#print(df_population.head())\n"
   ]
  },
  {
   "cell_type": "code",
   "execution_count": 2,
   "metadata": {},
   "outputs": [],
   "source": [
    "df_vaccine = df_vaccine.groupby(['date','prefecture'], as_index=False)['count'].sum().fillna(0)\n",
    "dates = df_vaccine['date'].unique()"
   ]
  },
  {
   "cell_type": "code",
   "execution_count": 4,
   "metadata": {},
   "outputs": [],
   "source": [
    "cumsum_df = df_vaccine[df_vaccine['date'] == dates[-1]].reset_index(drop = True)\n",
    "cumsum_df = df_jpn.merge(cumsum_df, left_on='code', right_on='prefecture', how='left')\n",
    "cumsum_df['count'] = 0\n",
    "\n",
    "for date in dates:\n",
    "    df = df_vaccine[df_vaccine['date'] == date].reset_index(drop = True)\n",
    "    df = df_jpn.merge(df, left_on='code', right_on='prefecture', how='left')\n",
    "    df['count'] = df['count'].fillna(0)\n",
    "    df['count'] += cumsum_df['count']\n",
    "    cumsum_df = df\n",
    "    \n",
    "    df = df.merge(df_population, left_on='code', right_on='prefecture_code', how='left')\n",
    "    df['vaccine_rate'] = df['count'] / df['population'] * 100\n",
    "    df.plot(column='vaccine_rate', vmin=0, vmax=60.0, cmap='rainbow', edgecolors='black', legend=True)\n",
    "    plt.title(date)\n",
    "    plt.savefig('img/animation/' + date + 'japan_vaccine_map.png')\n",
    "    plt.clf()"
   ]
  },
  {
   "cell_type": "code",
   "execution_count": 8,
   "metadata": {},
   "outputs": [
    {
     "data": {
      "text/plain": [
       "53.82497264596944"
      ]
     },
     "execution_count": 8,
     "metadata": {},
     "output_type": "execute_result"
    }
   ],
   "source": [
    "#df['vaccine_rate'].max()"
   ]
  },
  {
   "cell_type": "markdown",
   "metadata": {},
   "source": [
    "## 複数の画像からアニメーションを作成"
   ]
  },
  {
   "cell_type": "code",
   "execution_count": 9,
   "metadata": {},
   "outputs": [],
   "source": [
    "from PIL import Image\n",
    "import glob\n",
    " \n",
    "# GIFアニメーションを作成\n",
    "def create_gif(path_list ,output_file = \"out.gif\"):\n",
    "    imgs = []                                                 \n",
    " \n",
    "    for path in path_list:\n",
    "        img = Image.open(path)                   \n",
    "        imgs.append(img)                                 \n",
    "    \n",
    "    #最後だけ少し長くする\n",
    "    for _ in range(30):\n",
    "        imgs.append(img)  \n",
    "        \n",
    "    \n",
    "    imgs[0].save(output_file,\n",
    "                 save_all=True, append_images=imgs[1:], optimize=False, duration=70, loop=0)\n",
    "    \n",
    "\n",
    "create_gif(path_list = sorted(glob.glob('img/animation/*.png')))"
   ]
  },
  {
   "cell_type": "markdown",
   "metadata": {},
   "source": [
    "# 日本全体"
   ]
  },
  {
   "cell_type": "code",
   "execution_count": 14,
   "metadata": {},
   "outputs": [],
   "source": [
    "japan_population = df_population['population'].sum()\n",
    "df_japan_all = df_vaccine.groupby('date')['count'].sum().fillna(0) / japan_population \n",
    "df_japan_all = df_japan_all.cumsum()"
   ]
  },
  {
   "cell_type": "code",
   "execution_count": 15,
   "metadata": {},
   "outputs": [
    {
     "data": {
      "text/plain": [
       "date\n",
       "2021-04-12    0.000038\n",
       "2021-04-13    0.000072\n",
       "2021-04-14    0.000111\n",
       "2021-04-15    0.000183\n",
       "2021-04-16    0.000274\n",
       "                ...   \n",
       "2021-07-17    0.293724\n",
       "2021-07-18    0.297405\n",
       "2021-07-19    0.299926\n",
       "2021-07-20    0.303210\n",
       "2021-07-21    0.305547\n",
       "Name: count, Length: 101, dtype: float64"
      ]
     },
     "execution_count": 15,
     "metadata": {},
     "output_type": "execute_result"
    }
   ],
   "source": [
    "df_japan_all"
   ]
  },
  {
   "cell_type": "code",
   "execution_count": null,
   "metadata": {},
   "outputs": [],
   "source": []
  }
 ],
 "metadata": {
  "kernelspec": {
   "display_name": "Python 3",
   "language": "python",
   "name": "python3"
  },
  "language_info": {
   "codemirror_mode": {
    "name": "ipython",
    "version": 3
   },
   "file_extension": ".py",
   "mimetype": "text/x-python",
   "name": "python",
   "nbconvert_exporter": "python",
   "pygments_lexer": "ipython3",
   "version": "3.7.11"
  }
 },
 "nbformat": 4,
 "nbformat_minor": 4
}
