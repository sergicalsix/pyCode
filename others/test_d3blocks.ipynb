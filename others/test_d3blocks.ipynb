{
 "cells": [
  {
   "cell_type": "markdown",
   "metadata": {},
   "source": [
    "https://towardsdatascience.com/d3blocks-the-python-library-to-create-interactive-and-standalone-d3js-charts-3dda98ce97d4\n",
    "\n",
    "https://github.com/d3blocks/d3blocks"
   ]
  },
  {
   "cell_type": "code",
   "execution_count": 21,
   "metadata": {},
   "outputs": [
    {
     "name": "stderr",
     "output_type": "stream",
     "text": [
      "[d3blocks] >INFO> Cleaning edge_properties and config parameters..\n",
      "[d3blocks] >INFO> Extracting files..\n",
      "[d3blocks] >INFO> Import dataset: [energy]\n"
     ]
    },
    {
     "name": "stdout",
     "output_type": "stream",
     "text": [
      "[d3heatmap] >Scaling image between [min-100]\n",
      "\n",
      "[clusteval] >Fit using agglomerative with metric: euclidean, and linkage: ward\n",
      "[clusteval] >Evaluate using silhouette.\n"
     ]
    },
    {
     "name": "stderr",
     "output_type": "stream",
     "text": [
      "100%|██████████| 23/23 [00:00<00:00, 251.42it/s]\n"
     ]
    },
    {
     "name": "stdout",
     "output_type": "stream",
     "text": [
      "[clusteval] >Compute dendrogram threshold.\n",
      "[clusteval] >Optimal number clusters detected: [2].\n",
      "[clusteval] >Fin.\n"
     ]
    }
   ],
   "source": [
    "from d3blocks import D3Blocks\n",
    "%matplotlib inline\n",
    "# Initialize\n",
    "d3 = D3Blocks()\n",
    "\n",
    "# Import example\n",
    "df = d3.import_example('energy')\n",
    "\n",
    "# Create the heatmap\n",
    "d3.heatmap(df, showfig=True, stroke='red', vmax=10, figsize=(700,700))"
   ]
  },
  {
   "cell_type": "code",
   "execution_count": 23,
   "metadata": {},
   "outputs": [
    {
     "data": {
      "text/plain": [
       "True"
      ]
     },
     "execution_count": 23,
     "metadata": {},
     "output_type": "execute_result"
    }
   ],
   "source": []
  },
  {
   "cell_type": "code",
   "execution_count": 9,
   "metadata": {},
   "outputs": [
    {
     "name": "stderr",
     "output_type": "stream",
     "text": [
      "[d3blocks] >INFO> Cleaning edge_properties and config parameters..\n",
      "[d3blocks] >INFO> Extracting files..\n",
      "[d3blocks] >INFO> Import dataset: [energy]\n",
      "[d3blocks] >ERROR> Networkx version should be >= 2.5\n",
      "[d3blocks] >INFO> Hint: pip install -U networkx\n",
      "[d3blocks] >INFO> Set directed=True to see the markers!\n",
      "[d3blocks] >INFO> Keep only edges with weight>0\n",
      "[d3blocks] >INFO> Number of unique nodes: 48\n",
      "[d3blocks] >INFO> Slider range is set to [0, 840]\n",
      "[d3blocks] >INFO> Write to path: [/var/folders/4h/6p_tnk45467fqc01zbhlyj900000gp/T/tmprjt4saby/d3graph.html]\n"
     ]
    },
    {
     "name": "stdout",
     "output_type": "stream",
     "text": [
      "                     source            target   weight\n",
      "0      Agricultural 'waste'    Bio-conversion  124.729\n",
      "1            Bio-conversion            Liquid    0.597\n",
      "2            Bio-conversion            Losses   26.862\n",
      "3            Bio-conversion             Solid  280.322\n",
      "4            Bio-conversion               Gas   81.144\n",
      "..                      ...               ...      ...\n",
      "63       Thermal generation  District heating   79.329\n",
      "64                    Tidal  Electricity grid    9.452\n",
      "65  UK land based bioenergy    Bio-conversion  182.010\n",
      "66                     Wave  Electricity grid   19.013\n",
      "67                     Wind  Electricity grid  289.366\n",
      "\n",
      "[68 rows x 3 columns]\n"
     ]
    },
    {
     "name": "stderr",
     "output_type": "stream",
     "text": [
      "[d3blocks] >INFO> Number of unique nodes: 48\n",
      "[d3blocks] >INFO> Slider range is set to [0, 840]\n",
      "[d3blocks] >INFO> Write to path: [/var/folders/4h/6p_tnk45467fqc01zbhlyj900000gp/T/tmp33h3e20c/d3graph.html]\n"
     ]
    },
    {
     "data": {
      "text/plain": [
       "<networkx.classes.digraph.DiGraph at 0x12c1168d0>"
      ]
     },
     "execution_count": 9,
     "metadata": {},
     "output_type": "execute_result"
    }
   ],
   "source": [
    "\n",
    "from d3blocks import D3Blocks\n",
    "\n",
    "# Initialize\n",
    "d3 = D3Blocks()\n",
    "\n",
    "# Import example\n",
    "df = d3.import_example('energy')\n",
    "\n",
    "# Show the input data\n",
    "print(df)\n",
    "#                      source            target   weight\n",
    "# 0      Agricultural 'waste'    Bio-conversion  124.729\n",
    "# 1            Bio-conversion            Liquid    0.597\n",
    "# 2            Bio-conversion            Losses   26.862\n",
    "# 3            Bio-conversion             Solid  280.322\n",
    "# 4            Bio-conversion               Gas   81.144\n",
    "# ..                      ...               ...      ...\n",
    "# 63       Thermal generation  District heating   79.329\n",
    "# 64                    Tidal  Electricity grid    9.452\n",
    "# 65  UK land based bioenergy    Bio-conversion  182.010\n",
    "# 66                     Wave  Electricity grid   19.013\n",
    "# 67                     Wind  Electricity grid  289.366\n",
    "\n",
    "# [68 rows x 3 columns]\n",
    "\n",
    "\n",
    "# Initialize Network chart but do not yet show the chart.\n",
    "d3.d3graph(df, showfig=False)\n",
    "\n",
    "# Color node on clustering\n",
    "d3.D3graph.set_node_properties(color='cluster')\n",
    "\n",
    "# Make adjustments to the node: Thermal_generation\n",
    "d3.D3graph.node_properties['Thermal_generation']['size']=20\n",
    "d3.D3graph.node_properties['Thermal_generation']['edge_color']='#000fff' # Blue node edge\n",
    "d3.D3graph.node_properties['Thermal_generation']['edge_size']=3 # Node-edge Size\n",
    "\n",
    "# Make adjustments to the edge: 'Solar', 'Solar_Thermal'\n",
    "d3.D3graph.edge_properties['Solar', 'Solar_Thermal']['color']='#000fff'\n",
    "d3.D3graph.edge_properties['Solar', 'Solar_Thermal']['weight_scaled']=10\n",
    "\n",
    "# Show the network graph\n",
    "d3.D3graph.show()\n"
   ]
  },
  {
   "cell_type": "code",
   "execution_count": 25,
   "metadata": {},
   "outputs": [
    {
     "name": "stderr",
     "output_type": "stream",
     "text": [
      "[d3blocks] >INFO> Cleaning edge_properties and config parameters..\n",
      "[d3blocks] >INFO> Extracting files..\n",
      "[d3blocks] >INFO> Import dataset: [energy]\n",
      "[d3blocks] >INFO> Cleaning edge_properties and config parameters..\n",
      "[d3blocks] >INFO> Initializing [sankey]\n",
      "[d3blocks] >INFO> Convert to Frame.\n",
      "[d3blocks] >INFO> Node properties are set.\n",
      "[d3blocks] >INFO> Edge properties are set.\n",
      "[d3blocks] >INFO> File already exists and will be overwritten: [/var/folders/4h/6p_tnk45467fqc01zbhlyj900000gp/T/d3blocks/sankey.html]\n",
      "[d3blocks] >INFO> File not found: [file:////var/folders/4h/6p_tnk45467fqc01zbhlyj900000gp/T/d3blocks/sankey.html]\n"
     ]
    }
   ],
   "source": [
    "from d3blocks import D3Blocks\n",
    "\n",
    "# Initialize\n",
    "d3 = D3Blocks()\n",
    "\n",
    "# Import example\n",
    "df = d3.import_example('energy')\n",
    "\n",
    "# Link settings\n",
    "d3.sankey(df, link={\"color\": \"source-target\"})"
   ]
  },
  {
   "cell_type": "code",
   "execution_count": 26,
   "metadata": {},
   "outputs": [
    {
     "name": "stderr",
     "output_type": "stream",
     "text": [
      "[d3blocks] >INFO> File already exists and will be overwritten: [/var/folders/4h/6p_tnk45467fqc01zbhlyj900000gp/T/d3blocks/sankey.html]\n",
      "[d3blocks] >INFO> File not found: [file:////var/folders/4h/6p_tnk45467fqc01zbhlyj900000gp/T/d3blocks/sankey.html]\n"
     ]
    }
   ],
   "source": [
    "d3.show()"
   ]
  },
  {
   "cell_type": "code",
   "execution_count": 27,
   "metadata": {},
   "outputs": [],
   "source": [
    "!open /var/folders/4h/6p_tnk45467fqc01zbhlyj900000gp/T/d3blocks/sankey.html"
   ]
  },
  {
   "cell_type": "code",
   "execution_count": 19,
   "metadata": {},
   "outputs": [
    {
     "data": {
      "text/plain": [
       "['/var/folders/4h/6p_tnk45467fqc01zbhlyj900000gp/T/d3blocks/sankey.html',\n",
       " '/var/folders/4h/6p_tnk45467fqc01zbhlyj900000gp/T/d3blocks/heatmap.html']"
      ]
     },
     "execution_count": 19,
     "metadata": {},
     "output_type": "execute_result"
    }
   ],
   "source": [
    "import glob\n",
    "glob.glob('/var/folders/4h/6p_*/T/d3blocks/*')"
   ]
  },
  {
   "cell_type": "code",
   "execution_count": 24,
   "metadata": {},
   "outputs": [
    {
     "data": {
      "text/plain": [
       "['/var/folders/4h/6p_tnk45467fqc01zbhlyj900000gp/T/tmprjt4saby/d3graph.html',\n",
       " '/var/folders/4h/6p_tnk45467fqc01zbhlyj900000gp/T/tmp33h3e20c/d3graph.html']"
      ]
     },
     "execution_count": 24,
     "metadata": {},
     "output_type": "execute_result"
    }
   ],
   "source": [
    "glob.glob('/var/folders/4h/6p_*/T/tmp*/*')"
   ]
  },
  {
   "cell_type": "code",
   "execution_count": null,
   "metadata": {},
   "outputs": [],
   "source": []
  }
 ],
 "metadata": {
  "kernelspec": {
   "display_name": "Python 3",
   "language": "python",
   "name": "python3"
  },
  "language_info": {
   "codemirror_mode": {
    "name": "ipython",
    "version": 3
   },
   "file_extension": ".py",
   "mimetype": "text/x-python",
   "name": "python",
   "nbconvert_exporter": "python",
   "pygments_lexer": "ipython3",
   "version": "3.7.12"
  }
 },
 "nbformat": 4,
 "nbformat_minor": 4
}
